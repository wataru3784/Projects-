{
 "cells": [
  {
   "cell_type": "markdown",
   "metadata": {},
   "source": [
    "# Spring 2019 CX4240 Homework 4\n",
    "\n",
    "## Dr. Mahdi Roozbahani\n",
    "\n",
    "## Deadline: April 17, Wednesday, 11:59 pm\n",
    "\n",
    "* No unapproved extension of the deadline is allowed. Late submission will lead to 0 credit. \n",
    "\n",
    "* Discussion is encouraged, but each student must write his own answers and explicitly mention any collaborators."
   ]
  },
  {
   "cell_type": "markdown",
   "metadata": {},
   "source": [
    "# Part 1 Descriptive Questions (45pts)\n",
    "\n",
    "\n",
    "You could type with Latex (directly type in the markdown). Hand-writting is also acceptable. If you hand write, you could scan your answer and include it as a picture. If you want to add any picture to your answer, use this syntax $\"<img src=\"\" style=\"width: 500px;\"/>\"$ to include them within your ipython notebook."
   ]
  },
  {
   "cell_type": "markdown",
   "metadata": {},
   "source": [
    "## 1 SVM Concepts (20pts)\n",
    "\n",
    "(1) What linear function is used by a SVM for classification? How is an input vector $x_i$ (instance) assigned to the positive or negative class? (5pts)\n",
    "\n",
    "(A) The linear function used is $w^T x + b$. An input vector is assigned to the positive class if $f(x_i) < 0$ and to the negative class if $f(x_i) >= 0$ \n",
    "\n",
    "(2) If the training examples are linearly separable, how many decision boundaries can separate positive from negative data points? Which decision boundary does the SVM algorithm calculate? Why? (5pts)\n",
    "\n",
    "(A) If training is linearly separable, there are infinite number of decision boundaries that can separate negative from positive data points. The SVM calculates the decision boundary with the largest margin to increase confidence in correct assginment of data points.\n",
    "\n",
    "(3) What is the margin? Which are the equations of the two margin hyperplans $H_+$ and $H_-$ ? (5pts)\n",
    "\n",
    "(A) Margin is te distance from decision boundary to closest data point and that same distance to the other side of the boundary. <br>\n",
    "$H_+ = w^T x + b = 1$  <br>\n",
    "$H_- = w^T x + b = -1$\n",
    "\n",
    "(4) Summarize the main advantages and limitations of SVM. (5pts)\n",
    "\n",
    "Advatage: The regularization parameters lets users avoid overfitting, the kernel can be adjusted to user preference, is efficient to solve depending on methods, and work well with unstructured data \n",
    "\n",
    "Limitations: Deciding on a kernel function is hard and can be sensitive, training time can be long, need a model per class in multiclass problems"
   ]
  },
  {
   "cell_type": "markdown",
   "metadata": {},
   "source": [
    "## 2 SVM Kernel (25pts)\n",
    "\n",
    "Suppose we have a dataset in 1-dimensional space which consists of 3 data points ${−1, 0, 1}$ with the positive label and 3 data points ${−3, −2, 2}$ with the negative label.\n",
    "\n",
    "(1) Find a feature map $(R1 → R2)$, which will map the original 1-dimensional data points to the 2-dimensional feature space so that the positive samples and the negative samples are linearly separable with each other. Draw the dataset after mapping in the 2-dimensional space. (10pts)\n",
    "\n",
    "same plot below\n",
    "\n",
    "(2) In your plot above, draw the decision boundary given by hard-margin linear SVM. Mark the corresponding support vectors. (5pts)\n",
    "\n",
    "<img src=\"Capture.PNG\" style=\"width: 500px;\"/>\n",
    "\n",
    "(3) For the feature map you use, what is the corresponding kernel $K(x_1,x_2)$? (10pts)\n",
    "\n",
    "The kernel used is \n",
    "$K(x_1,x_2) = \\phi(x_1)^T \\phi(x_2) = [x_1,x_1^2]^T [x_2,x_2^2] = x_1 x_2 + x_1^2 x_2^2$"
   ]
  },
  {
   "cell_type": "markdown",
   "metadata": {},
   "source": [
    "# Part 2 Coding Questions (55pts + extra 10 bonus points)\n"
   ]
  },
  {
   "cell_type": "markdown",
   "metadata": {},
   "source": [
    "We are going to implement a neural network that can be used to classify the images. \n",
    "\n",
    "Make sure the packages imported below are installed. These packages should be enough for you to finish this homework.\n",
    "\n",
    "**You don't need to modify the block below.**"
   ]
  },
  {
   "cell_type": "code",
   "execution_count": 35,
   "metadata": {},
   "outputs": [],
   "source": [
    "%matplotlib inline\n",
    "\n",
    "import matplotlib\n",
    "import matplotlib.pyplot as plt\n",
    "import numpy as np\n",
    "import gzip\n",
    "import pickle\n",
    "from tqdm import tqdm_notebook as tqdm\n",
    "from abc import ABC, abstractmethod"
   ]
  },
  {
   "cell_type": "markdown",
   "metadata": {},
   "source": [
    "Below are some abstract classes defined for neural network layers. \n",
    "\n",
    "The neural networks we are talking about here consist of several stacked 'layers'. Each layer is an operation that processes the output from previous layer, and feed the output to next layer.\n",
    "\n",
    "Here are several common functions. It is ok if it doesn't look familiar for now, we will get into them step by step. \n",
    "\n",
    "(1) forward: corresponds to the 'forward pass' in the class notes.\n",
    "\n",
    "(2) backward_input: taking derivatives with respect to some inputs.\n",
    "\n",
    "(3) backward_param: taking derivatives with respect to the parameters $\\theta$\n",
    "\n",
    "**You don't need to modify the block below.**"
   ]
  },
  {
   "cell_type": "code",
   "execution_count": 36,
   "metadata": {},
   "outputs": [],
   "source": [
    "DTYPE = np.float32\n",
    "\n",
    "class Layer(ABC):\n",
    "    def __init__(self):\n",
    "        pass\n",
    "    @abstractmethod\n",
    "    def forward(self, h_in):\n",
    "        raise NotImplementedError\n",
    "    @abstractmethod\n",
    "    def backward_input(self, h_in, h_out, d_hout):\n",
    "        raise NotImplementedError\n",
    "\n",
    "class ParamLayer(Layer):\n",
    "    def __init__(self):\n",
    "        self.params = dict()\n",
    "\n",
    "    @abstractmethod\n",
    "    def backward_param(self, h_in, h_out, d_hout):\n",
    "        raise NotImplementedError    \n"
   ]
  },
  {
   "cell_type": "markdown",
   "metadata": {},
   "source": [
    "And here are some utility functions. \n",
    "\n",
    "How to initialize the weights in the neural network is an interesting research topic, since different initializations will probably lead to very different final results. Here we just use one type of initialization which is commonly used in the literature.\n",
    "\n",
    "If you are interested in more details, it is called glorot_uniform, which is used to initialize the weights of the fully connected layers. See [this paper](http://proceedings.mlr.press/v9/glorot10a.html).\n",
    "\n",
    "**You don't need to modify the block below.**"
   ]
  },
  {
   "cell_type": "code",
   "execution_count": 37,
   "metadata": {},
   "outputs": [],
   "source": [
    "def weight_init(out_size, in_size):\n",
    "    limit = np.sqrt(6.0 / (in_size + out_size))\n",
    "    return np.random.uniform(-limit, limit, size=[out_size, in_size]).astype(DTYPE)"
   ]
  },
  {
   "cell_type": "markdown",
   "metadata": {},
   "source": [
    "## Overview of the architecture\n",
    "\n",
    "Let's start from the picture we have seen in the class. It is a neural network that contains one input layer, one hidden layer, and one output layer.\n",
    "\n",
    "The weights between input and first hidden layer is called the first fully connected layer (FCLayer), since it connects all neurons between these two layers. So as for the second FCLayer.\n",
    "\n",
    "After the FCLayer, the sigmoid function we see in the class is called activation functin, where we call it SigmoidLayer in this homework for consistency. \n",
    "\n",
    "![title](nn.png)\n",
    "\n",
    "\n",
    "Below we first introduce the task, and then start with the implementation of the objective function, and next implement the forward and backward pass for the FCLayer and SigmoidLayer. \n",
    "\n"
   ]
  },
  {
   "cell_type": "markdown",
   "metadata": {},
   "source": [
    "Our task is to classify the hand written digits from zero to nine (totally 10 digits).\n",
    "\n",
    "Let's load the MNIST dataset, and display some of the training images to get a better idea of what we are going to do. For more information about MNIST and its history, you can read [this](http://yann.lecun.com/exdb/mnist/) if you are interested.\n",
    "\n",
    "**You don't need to modify the block below.**"
   ]
  },
  {
   "cell_type": "code",
   "execution_count": 38,
   "metadata": {},
   "outputs": [
    {
     "data": {
      "image/png": "[encoded data removed]",
      "text/plain": [
       "<Figure size 576x576 with 20 Axes>"
      ]
     },
     "metadata": {},
     "output_type": "display_data"
    }
   ],
   "source": [
    "with gzip.open('mnist.pkl.gz', 'rb') as f:\n",
    "    train_set, valid_set, test_set = pickle.load(f, encoding='bytes')\n",
    "\n",
    "train_imgs, train_labels = train_set\n",
    "fig = plt.figure(figsize=(8, 8))\n",
    "# plot several images\n",
    "for i in range(20):\n",
    "    ax = fig.add_subplot(10, 10, i + 1, xticks=[], yticks=[])\n",
    "    img = np.reshape(train_imgs[i], (28, 28))\n",
    "    ax.imshow(img, cmap='gray')"
   ]
  },
  {
   "cell_type": "markdown",
   "metadata": {},
   "source": [
    "Each image is of size 28x28=784. We flat the image and use this 784-dimension vector as the feature representation for each image. In total we have 50k images for training, 10k images for validation and another 10k images for test.\n",
    "\n",
    "**You don't need to modify the block below.**"
   ]
  },
  {
   "cell_type": "code",
   "execution_count": 39,
   "metadata": {},
   "outputs": [
    {
     "name": "stdout",
     "output_type": "stream",
     "text": [
      "train images (50000, 784)\n",
      "validation images (10000, 784)\n",
      "test images (10000, 784)\n"
     ]
    }
   ],
   "source": [
    "print('train images', train_set[0].shape)\n",
    "print('validation images', valid_set[0].shape)\n",
    "print('test images', test_set[0].shape)"
   ]
  },
  {
   "cell_type": "markdown",
   "metadata": {},
   "source": [
    "### 1. Mean Square Error layer (14pts)\n",
    "\n",
    "Our objective is to minimize the MSE, i.e.,:\n",
    "\n",
    "$$E(\\theta) = \\frac{1}{N} \\sum_{i=1}^N \\frac{1}{2} \\|\\vec{y_i} - \\hat{y}(x_i; \\theta)\\|^2$$\n",
    "\n",
    "Where $y_i$ is the true label, and $\\hat{y}$ is our prediction. \n",
    "\n",
    "In class we have learned the case where $y \\in \\mathbb{R}$ is a scalar. In this homework, we make a bit of extension to that, in which $y \\in \\mathbb{R}^{10}$ is a 10-dimensional vector. The reason is, we want to use this neural network to classify the 10 types of digits.\n",
    "\n",
    "We use one-hot representation for the true label. For example, if the label of $i$-th instance is class 4, then the one-hot representation would be $y_i = [0, 0, 0, 0, 1, 0, 0, 0, 0, 0]$. \n",
    "\n",
    "**Note that MSE is not a standard loss function for multi-class classification. We use this in the homework simply because it is simpler to calculate the gradient.**\n",
    "\n",
    "Below we have a helper function that converts the class label into 10-dimensional one-hot vector.\n",
    "\n",
    "**You don't need to modify the block below.**"
   ]
  },
  {
   "cell_type": "code",
   "execution_count": 40,
   "metadata": {},
   "outputs": [],
   "source": [
    "def get_onehot(labels):\n",
    "    one_hot = np.zeros((len(labels), 10), dtype=DTYPE)\n",
    "    one_hot[range(len(labels)), labels] = 1.0\n",
    "    return one_hot"
   ]
  },
  {
   "cell_type": "markdown",
   "metadata": {},
   "source": [
    "#### Implementation: Mean Square Error calculation and derivatives.\n",
    "\n",
    "Now it's time to get your hands dirty. You are asked to implement the two functions below.\n",
    "\n",
    "(1) forward (**7pts**): given the true labels and prediction $\\hat{y_i}$, first convert the labels into one-hot representation $y_i$, then calculate the error $\\frac{1}{2}\\|y_i - \\hat{y_i}\\|^2$. Note that there will be N instances fed into this function, so you need to return the average MSE. \n",
    "\n",
    "(2) backward_input (**7pts**): you are asked to implement the derivatives with respect to your prediction, \n",
    "$$\\frac{\\partial E_i}{\\partial \\hat{y}_i} = y_i - \\hat{y}_i$$. Do this for all the N instances in this batch, and return a matrix with size $N * 10$."
   ]
  },
  {
   "cell_type": "code",
   "execution_count": 57,
   "metadata": {},
   "outputs": [],
   "source": [
    "class MeanSquareError(Layer):\n",
    "    \n",
    "    def forward(self, labels, predict):\n",
    "        one_hot_label = get_onehot(labels)\n",
    "        N = predict.shape[0]\n",
    "        loss = []\n",
    "        for i in range(N):\n",
    "            err = 0.5 * np.linalg.norm(predict[i,:] - one_hot_label[i,:])**2 \n",
    "            loss = np.append(loss, err)\n",
    "        loss = np.mean(loss)\n",
    "        return loss\n",
    "\n",
    "    def backward_input(self, labels, predict):\n",
    "        one_hot_label = get_onehot(labels)\n",
    "        deriv = predict - one_hot_label\n",
    "        return deriv"
   ]
  },
  {
   "cell_type": "markdown",
   "metadata": {},
   "source": [
    "### 2. Fully connected layer (21pts)\n",
    "\n",
    "Below you are asked to implement the forward, backward_input and backward_param functions. \n",
    "\n",
    "Note that the multiplication '$*$' below means matrix multiplication (i.e., np.dot)\n",
    "\n",
    "(1) forward (**7pts**): let's copy the architecture figure below:\n",
    "\n",
    "<img src=\"fc.png\" style=\"width: 150px;\"/>\n",
    "\n",
    "\n",
    "In the above example, we have $x$ of dimension 1, and hidden layer of dimension 2, then we'll have 1 * 2 + 2 parameters for $\\theta$ in this layer. \n",
    "\n",
    "Let's redefine the notation a bit: $\\theta_{1, 0} = \\theta_{1}$, $\\theta_{2, 0} = \\theta_{2}$, $\\theta_{1, 1} = \\theta_{3}$, $\\theta_{2, 1} = \\theta_{4}$\n",
    "\n",
    "If we have $x$ of dimension 784, and hidden layer of size 1024, then we'll have 784 * 1024 + 1024 parameters for $\\theta$ in this layer. The $i$-th neuron $u_{i} = \\sum_{j=1}^{784} x_j * \\theta_{i, j} + \\theta_{i, 0}$.  \n",
    "\n",
    "To make the notation simple, let $W \\in \\mathbb{R}^{1024 * 784}$ be the weight matrix, where $W_{i, j} = \\theta_{i, j}$. And let $b \\in \\mathbb{R}^{1024}$ be the bias vector, where $b_i = \\theta_{i, 0}$. Then we can rewrite the above summation in the matrix format:\n",
    "\n",
    "$$\\vec{u} = \\vec{x} * W^\\top + b$$\n",
    "\n",
    "**Keep the above equation in mind, as it is need for both forward and backward implementations.**\n",
    "\n",
    "You are supposed to write the above matrix multiplication inside the forward function.\n",
    "\n",
    "(2) backward_input (**7pts**): we want the derivatives w.r.t input $\\vec{x}$, i.e., $\\frac{\\partial E(\\theta)}{\\partial \\vec{x}}$. \n",
    "\n",
    "use the chain rule, $\\frac{\\partial E(\\theta)}{\\partial \\vec{x}} = \\frac{\\partial E(\\theta)}{\\partial \\vec{u}} * \\frac{\\partial \\vec{u}}{\\partial \\vec{x}}$. \n",
    "\n",
    "$\\frac{\\partial E(\\theta)}{\\partial \\vec{u}}$ will be provided as an argument to this function, so you are only asked to implement $\\frac{\\partial \\vec{u}}{\\partial \\vec{x}} and get the chain rule done.\n",
    "\n",
    "(3) backward_param (**7pts**):  we want the derivatives w.r.t parameter $W, b$, i.e., $\\frac{\\partial E(\\theta)}{\\partial W}$ and $\\frac{\\partial E(\\theta)}{\\partial b}$. \n",
    "\n",
    "use the chain rule again, $\\frac{\\partial E(\\theta)}{\\partial W} = \\frac{\\partial E(\\theta)}{\\partial \\vec{u}} * \\frac{\\partial \\vec{u}}{\\partial W}$. \n",
    "\n",
    "and \n",
    "\n",
    "$\\frac{\\partial E(\\theta)}{\\partial b} = \\frac{\\partial E(\\theta)}{\\partial \\vec{u}} * \\frac{\\partial \\vec{u}}{\\partial b}$.\n",
    "\n",
    "Again, the $\\frac{\\partial E(\\theta)}{\\partial \\vec{u}}$ will be provided to this function, so you are only asked to implement $\\frac{\\partial \\vec{u}}{\\partial W}$ and $\\frac{\\partial \\vec{u}}{\\partial b}$, to get the chain rule done.\n",
    "\n",
    "**You don't need to modify __init__**\n",
    "\n",
    "#### Implementation: You are asked to implement forward, backward_input, backward_param. "
   ]
  },
  {
   "cell_type": "code",
   "execution_count": 58,
   "metadata": {},
   "outputs": [],
   "source": [
    "class FCLayer(ParamLayer):\n",
    "    def __init__(self, out_size, in_size):\n",
    "        \"\"\"\n",
    "        Args:\n",
    "            out_size: output dimension\n",
    "            in_size: input dimension\n",
    "        \"\"\" \n",
    "        super(FCLayer, self).__init__()\n",
    "        self.out_size = out_size\n",
    "        self.in_size = in_size\n",
    "        self.params[\"weight\"] = weight_init(out_size, in_size)\n",
    "        self.params[\"bias\"] = np.zeros(out_size, dtype=DTYPE)\n",
    "\n",
    "    def forward(self, x):\n",
    "        \"\"\"\n",
    "        Args:\n",
    "            x: array of size N x in_size, where N is the batch size\n",
    "        Return:\n",
    "            u: array of size N x out_size\n",
    "        \"\"\"\n",
    "        Wt = np.transpose(self.params[\"weight\"])\n",
    "        u = np.dot(x, Wt) + self.params[\"bias\"]\n",
    "        return u \n",
    "\n",
    "    def backward_input(self, x, u, de_du):\n",
    "        \"\"\"\n",
    "        Args:\n",
    "            x: array of size N x in_size, where N is the batch size\n",
    "            u: array of size N x out_size, \n",
    "            de_du: \\frac{\\partial E(\\theta)}{\\partial \\vec{u}} in the above equation\n",
    "        Return:\n",
    "            de_dx: \\frac{\\partial E(\\theta)}{\\partial \\vec{x}} in the above equation\n",
    "        \"\"\"\n",
    "        de_dx = np.dot(de_du, self.params[\"weight\"])\n",
    "        return de_dx\n",
    "\n",
    "    def backward_param(self, x, u, de_du):\n",
    "        \"\"\"\n",
    "        Args:\n",
    "            x: array of size N x in_size, where N is the batch size\n",
    "            u: array of size N x out_size, \n",
    "            de_du: \\frac{\\partial E(\\theta)}{\\partial \\vec{u}} in the above equation\n",
    "        Return:\n",
    "            dictionary of {\n",
    "                \"weight\": \\frac{\\partial E(\\theta)}{\\partial W} in the above equation\n",
    "                \"bias\": \\frac{\\partial E(\\theta)}{\\partial b} in the above equation\n",
    "            }\n",
    "        \"\"\"\n",
    "        N = x.shape[0]\n",
    "        de_dw = np.dot(de_du.T, x)\n",
    "        de_db = np.dot(de_du.T, np.ones(N))\n",
    "        D = {} \n",
    "        D[\"weight\"] = de_dw \n",
    "        D[\"bias\"] = de_db \n",
    "        return D "
   ]
  },
  {
   "cell_type": "markdown",
   "metadata": {},
   "source": [
    "### 3. Sigmoid activation layer implementation (14pts)\n",
    "\n",
    "One key component in a neural network is the nonlinear activation function. \n",
    "\n",
    "<img src=\"sigmoid.png\" style=\"width: 150px;\"/>\n",
    "\n",
    "\n",
    "**forward implementation (7pts)**\n",
    "\n",
    "$O = Sigmoid(\\mu) = \\frac{1}{1 + \\exp(-\\mu)}$\n",
    "\n",
    "**backward_input implementation (7pts)**\n",
    "Use the notes in the class to get the derivatives. \n",
    "\n",
    "$\\frac{\\partial E(\\theta)}{\\partial \\mu} = \\frac{\\partial E(\\theta)}{O} * \\frac{\\partial O}{\\partial \\mu}$.\n",
    "\n",
    "$\\frac{\\partial E(\\theta)}{O}$ will be provided as the input to the function. You are only asked to calculate \n",
    "$\\frac{\\partial O}{\\partial \\mu}$ and get the chain rule done. "
   ]
  },
  {
   "cell_type": "code",
   "execution_count": 59,
   "metadata": {},
   "outputs": [],
   "source": [
    "class SigmoidLayer(Layer):\n",
    "\n",
    "    def forward(self, u):\n",
    "        \"\"\"\n",
    "        Args:\n",
    "            u: array of size N x D, where N is the batch size\n",
    "        Return:\n",
    "            O: array of size N x D\n",
    "        \"\"\"\n",
    "        return 1/(1+np.exp(-u))\n",
    "    \n",
    "    def backward_input(self, u, O, de_dO):\n",
    "        \"\"\"\n",
    "        Args:\n",
    "            u: array of size N x D, where N is the batch size\n",
    "            O: array of size N x D, \n",
    "            de_dO: \\frac{\\partial L}{\\partial h}\n",
    "        Return:\n",
    "            de_du: \\frac{\\partial L}{\\partial x}\n",
    "        \"\"\"\n",
    "        dO_du = np.dot(O.T, 1-O)\n",
    "        de_du = np.dot(de_dO, dO_du)\n",
    "        return de_du"
   ]
  },
  {
   "cell_type": "markdown",
   "metadata": {},
   "source": [
    "### Optional: ReLU (Rectifier linear unit) activation layer implementation\n",
    "\n",
    "**You will get extra 10pts bonus points if you also implement this one correctly.**\n",
    "\n",
    "Another option is Relu. In this setting, the Relu will have ~20% accuracy boost from sigmoid function, after 10 epochs of training. \n",
    "\n",
    "For each neuron $x$ in the corresponding hidden layer $h_i$, the relu function is:\n",
    "\n",
    "$Relu(x) = x$, if $x > 0$, else $0$\n",
    "\n",
    "The derivative can be calculated for all $x$ except at $x=0$, where the function is not smooth. One practice is to simply ignore the case when x=0."
   ]
  },
  {
   "cell_type": "code",
   "execution_count": 60,
   "metadata": {},
   "outputs": [],
   "source": [
    "class ReLULayer(Layer):\n",
    "\n",
    "    def forward(self, h_in):\n",
    "        \"\"\"\n",
    "        Args:\n",
    "            h_in: array of size N x D, where N is the batch size\n",
    "        Return:\n",
    "            h_out: array of size N x D\n",
    "        \"\"\"        \n",
    "        return np.maximum(0,h_in)\n",
    "\n",
    "    def backward_input(self, h_in, h_out, d_hout):\n",
    "        \"\"\"\n",
    "        Args:\n",
    "            h_in: array of size N x in_size, where N is the batch size\n",
    "            h_out: array of size N x out_size, \n",
    "            d_hout: \\frac{\\partial L}{\\partial h} in the above equation\n",
    "        Return:\n",
    "            d_hin: \\frac{\\partial L}{\\partial x} in the above equation\n",
    "        \"\"\"\n",
    "        return 1. * (h_in > 0)"
   ]
  },
  {
   "cell_type": "markdown",
   "metadata": {},
   "source": [
    "No matter which one you implemented, choose the one that is to be used later:"
   ]
  },
  {
   "cell_type": "code",
   "execution_count": 61,
   "metadata": {},
   "outputs": [],
   "source": [
    "# uncomment below if you use sigmoid\n",
    "ACT_FUNC = SigmoidLayer\n",
    "# uncomment below if you use relu\n",
    "#ACT_FUNC = ReLULayer"
   ]
  },
  {
   "cell_type": "markdown",
   "metadata": {},
   "source": [
    "### 4. Neural Network implementation (6pts)\n",
    "\n",
    "\n",
    "Now we are ready to put everything together and get our neural network assembled!\n",
    "\n",
    "We call it MLP (multi layer perception). \n",
    "\n",
    "**To make it simple, you are only required to implement the \"update\" function, which corresponds to the SGD update operation.**\n",
    "\n",
    "$$W = W - \\eta * dW$$, where $W$ is the parameter you want to update, $\\eta$ is the learning rate.\n"
   ]
  },
  {
   "cell_type": "code",
   "execution_count": 62,
   "metadata": {},
   "outputs": [],
   "source": [
    "class MLP(object):\n",
    "    def __init__(self, in_dim, hidden_dims, out_dim):\n",
    "        \"\"\"Do not modify\"\"\"\n",
    "        self.act_layer = ACT_FUNC()\n",
    "        \n",
    "        dims = [in_dim] + hidden_dims + [out_dim]\n",
    "        self.fc_layers = []\n",
    "        for i in range(len(dims) - 1):\n",
    "            fc_layer = FCLayer(out_size=dims[i + 1], in_size=dims[i])\n",
    "            self.fc_layers.append(fc_layer)\n",
    "        self.loss_func = MeanSquareError()\n",
    "        \n",
    "    def forward(self, img_input, img_label):\n",
    "        \"\"\"Do not modify\"\"\"\n",
    "        x = img_input\n",
    "        self.hiddens = [x]\n",
    "        for i in range(len(self.fc_layers)):\n",
    "            x = self.fc_layers[i].forward(x)\n",
    "            self.hiddens.append(x)\n",
    "            if i + 1 < len(self.fc_layers):\n",
    "                x = self.act_layer.forward(x)\n",
    "                self.hiddens.append(x)\n",
    "        logits = x\n",
    "        loss = self.loss_func.forward(img_label, logits)\n",
    "        predict = np.argmax(logits, axis=1)\n",
    "        accuracy = np.mean(predict == img_label)\n",
    "        return loss, accuracy\n",
    "\n",
    "    def backward(self, img_label):\n",
    "        \"\"\"Do not modify\"\"\"\n",
    "        grad = self.loss_func.backward_input(img_label, self.hiddens[-1])\n",
    "        idx = len(self.hiddens) - 1\n",
    "        self.layer_grads = [None] * len(self.fc_layers)\n",
    "        for i in range(len(self.fc_layers) - 1, -1, -1):\n",
    "            assert idx >= 1\n",
    "            g_param = self.fc_layers[i].backward_param(self.hiddens[idx - 1], self.hiddens[idx], grad)\n",
    "            self.layer_grads[i] = g_param\n",
    "            grad = self.fc_layers[i].backward_input(self.hiddens[idx - 1], self.hiddens[idx], grad)            \n",
    "            idx -= 1\n",
    "            if i > 0:\n",
    "                grad = self.act_layer.backward_input(self.hiddens[idx - 1], self.hiddens[idx], grad)\n",
    "                idx -= 1\n",
    "        assert idx == 0\n",
    "\n",
    "    def update(self, learning_rate):\n",
    "        \"\"\"\n",
    "        Args:\n",
    "            learning_rate: scalar, the \\eta in above\n",
    "        \"\"\"\n",
    "        for i in range(len(self.fc_layers)):\n",
    "            grad_params = self.layer_grads[i]\n",
    "            params = self.fc_layers[i].params\n",
    "            # params is a dictionary of parameters: {'weight': np array, 'bias': np array}\n",
    "            # grad_params is a dictionary of gradients w.r.t. parameters: {'weight': np array, 'bias': np array}            \n",
    "            # TODO: update params[\"weight\"] and params[\"bias\"] with grad_params[\"weight\"] and grad_params[\"bias\"]\n",
    "            \n",
    "            params[\"weight\"] = params[\"weight\"] - learning_rate *  grad_params[\"weight\"]\n",
    "            #params[\"weight\"] -= np.dot(learning_rate, grad_params[\"weight\"])\n",
    "            params[\"bias\"] = params[\"bias\"] - learning_rate * grad_params[\"bias\"]\n",
    "            #params[\"bias\"] -= np.dot(learning_rate, grad_params[\"bias\"])\n",
    "    "
   ]
  },
  {
   "cell_type": "markdown",
   "metadata": {},
   "source": [
    "To handle the MNIST, we create a neural network with 2 hidden layers, each of them has size of 1024.\n",
    "Since it is a 10-class classification problem, the neural network will have an output of size 10.\n",
    "\n",
    "To summarize, the neural network has the layer sizes of 784 -> 1024 -> 1024 -> 10\n",
    "\n",
    "**You don't need to modify the block below.**"
   ]
  },
  {
   "cell_type": "code",
   "execution_count": 63,
   "metadata": {},
   "outputs": [],
   "source": [
    "np.random.seed(1)\n",
    "net = MLP(784, [1024, 1024], 10)"
   ]
  },
  {
   "cell_type": "markdown",
   "metadata": {},
   "source": [
    "Let's train it for 10 epochs (i.e., go through the training dataset for 10 times), report the validation performance after each epoch. \n",
    "\n",
    "**You don't need to modify the block below.**"
   ]
  },
  {
   "cell_type": "code",
   "execution_count": 64,
   "metadata": {},
   "outputs": [
    {
     "name": "stdout",
     "output_type": "stream",
     "text": [
      "training epoch 1\n"
     ]
    },
    {
     "data": {
      "application/vnd.jupyter.widget-view+json": {
       "model_id": "d94762d5eec64bffa8241fc5e694f8da",
       "version_major": 2,
       "version_minor": 0
      },
      "text/plain": [
       "HBox(children=(IntProgress(value=0, max=500), HTML(value='')))"
      ]
     },
     "metadata": {},
     "output_type": "display_data"
    },
    {
     "name": "stdout",
     "output_type": "stream",
     "text": [
      "validation\n",
      "average loss: 0.45025395555079734\n",
      "average accuracy: 0.1064\n",
      "training epoch 2\n"
     ]
    },
    {
     "data": {
      "application/vnd.jupyter.widget-view+json": {
       "model_id": "1dc4a758c8064d25a6b699ddccc6b026",
       "version_major": 2,
       "version_minor": 0
      },
      "text/plain": [
       "HBox(children=(IntProgress(value=0, max=500), HTML(value='')))"
      ]
     },
     "metadata": {},
     "output_type": "display_data"
    },
    {
     "name": "stdout",
     "output_type": "stream",
     "text": [
      "validation\n",
      "average loss: 0.44993655767660734\n",
      "average accuracy: 0.1064\n"
     ]
    }
   ],
   "source": [
    "def loop_over_dataset(net, imgs, labels, is_training, batch_size=100):\n",
    "    loss_list = []\n",
    "    acc_list = []\n",
    "    pbar = range(0, imgs.shape[0], batch_size)\n",
    "    if is_training:\n",
    "        pbar = tqdm(pbar)\n",
    "    for i in pbar:\n",
    "        x = imgs[i : i + batch_size, :]\n",
    "        y = labels[i : i + batch_size]\n",
    "        loss, acc = net.forward(x, y)\n",
    "        if is_training:\n",
    "            net.backward(y)\n",
    "            net.update(5e-5)\n",
    "        loss_list.append(loss)\n",
    "        acc_list.append(acc)\n",
    "        if is_training:\n",
    "            pbar.set_description('loss: %.4f, acc: %.4f' % (loss, acc))\n",
    "    if not is_training:\n",
    "        print('average loss:', np.mean(loss_list))\n",
    "        print('average accuracy:', np.mean(acc_list))\n",
    "\n",
    "num_epochs = 2\n",
    "for e in range(num_epochs):\n",
    "    print('training epoch', e + 1)\n",
    "    loop_over_dataset(net, train_set[0], train_set[1], is_training=True)\n",
    "    print('validation')\n",
    "    loop_over_dataset(net, valid_set[0], valid_set[1], is_training=False)"
   ]
  },
  {
   "cell_type": "markdown",
   "metadata": {},
   "source": [
    "And do the evaluation on the test set. \n",
    "\n",
    "**You don't need to modify the block below.**"
   ]
  },
  {
   "cell_type": "code",
   "execution_count": null,
   "metadata": {},
   "outputs": [],
   "source": [
    "loop_over_dataset(net, test_set[0], test_set[1], is_training=False)"
   ]
  },
  {
   "cell_type": "code",
   "execution_count": null,
   "metadata": {},
   "outputs": [],
   "source": []
  }
 ],
 "metadata": {
  "kernelspec": {
   "display_name": "Python 3",
   "language": "python",
   "name": "python3"
  },
  "language_info": {
   "codemirror_mode": {
    "name": "ipython",
    "version": 3
   },
   "file_extension": ".py",
   "mimetype": "text/x-python",
   "name": "python",
   "nbconvert_exporter": "python",
   "pygments_lexer": "ipython3",
   "version": "3.6.8"
  }
 },
 "nbformat": 4,
 "nbformat_minor": 2
}
