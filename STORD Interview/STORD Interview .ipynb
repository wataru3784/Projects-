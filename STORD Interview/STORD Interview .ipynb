{
 "cells": [
  {
   "cell_type": "markdown",
   "metadata": {},
   "source": [
    "# STORD Case Study Solution"
   ]
  },
  {
   "cell_type": "markdown",
   "metadata": {},
   "source": [
    "## (1) Min-Cost Model"
   ]
  },
  {
   "cell_type": "code",
   "execution_count": 2,
   "metadata": {},
   "outputs": [
    {
     "name": "stdout",
     "output_type": "stream",
     "text": [
      "Academic license - for non-commercial use only\n"
     ]
    }
   ],
   "source": [
    "from gurobipy import * \n",
    "model = Model(\"STORD\")"
   ]
  },
  {
   "cell_type": "markdown",
   "metadata": {},
   "source": [
    "### Making Indexes"
   ]
  },
  {
   "cell_type": "code",
   "execution_count": 4,
   "metadata": {},
   "outputs": [],
   "source": [
    "#index i \n",
    "customers = [0,1,2,3,4,5,6]\n",
    "customer_demands = {0:36, 1:42, 2:34, 3:50, 4:27, 5:30, 6:43}\n",
    "\n",
    "#index j \n",
    "warehouses = [0,1,2,3,4,5]\n",
    "warehouse_fixed_costs = {0:321420, 1:350640, 2:379860, 3:401775, 4:350640, 5:336030}\n",
    "\n",
    "#index ij \n",
    "distance = [ [18,21,27,16,31,18],\n",
    "\t\t\t[23,18,18,23,20,17],\n",
    "\t\t\t[19,17,17,9,18,29],\n",
    "\t\t\t[21,23,20,31,19,21],\n",
    "\t\t\t[24,11,23,21,10,22],\n",
    "\t\t\t[17,18,9,23,17,18],\n",
    "\t\t\t[9,20,18,10,18,8] ]"
   ]
  },
  {
   "cell_type": "markdown",
   "metadata": {},
   "source": [
    "An assumption I make here is that demand will be constant for the next 4 years."
   ]
  },
  {
   "cell_type": "code",
   "execution_count": 5,
   "metadata": {},
   "outputs": [],
   "source": [
    "cost_per_milepallet = 0.06 * 365 * 4"
   ]
  },
  {
   "cell_type": "markdown",
   "metadata": {},
   "source": [
    "### Make Decision Variables "
   ]
  },
  {
   "cell_type": "code",
   "execution_count": 6,
   "metadata": {},
   "outputs": [],
   "source": [
    "x = model.addVars(customers, warehouses,  vtype = GRB.BINARY, name = \"x\" )\n",
    "y = model.addVars(warehouses,  vtype = GRB.BINARY, name = \"y\" )"
   ]
  },
  {
   "cell_type": "markdown",
   "metadata": {},
   "source": [
    "### Make Constraints"
   ]
  },
  {
   "cell_type": "code",
   "execution_count": 7,
   "metadata": {},
   "outputs": [
    {
     "data": {
      "text/plain": [
       "{(0, 0): <gurobi.Constr *Awaiting Model Update*>,\n",
       " (0, 1): <gurobi.Constr *Awaiting Model Update*>,\n",
       " (0, 2): <gurobi.Constr *Awaiting Model Update*>,\n",
       " (0, 3): <gurobi.Constr *Awaiting Model Update*>,\n",
       " (0, 4): <gurobi.Constr *Awaiting Model Update*>,\n",
       " (0, 5): <gurobi.Constr *Awaiting Model Update*>,\n",
       " (1, 0): <gurobi.Constr *Awaiting Model Update*>,\n",
       " (1, 1): <gurobi.Constr *Awaiting Model Update*>,\n",
       " (1, 2): <gurobi.Constr *Awaiting Model Update*>,\n",
       " (1, 3): <gurobi.Constr *Awaiting Model Update*>,\n",
       " (1, 4): <gurobi.Constr *Awaiting Model Update*>,\n",
       " (1, 5): <gurobi.Constr *Awaiting Model Update*>,\n",
       " (2, 0): <gurobi.Constr *Awaiting Model Update*>,\n",
       " (2, 1): <gurobi.Constr *Awaiting Model Update*>,\n",
       " (2, 2): <gurobi.Constr *Awaiting Model Update*>,\n",
       " (2, 3): <gurobi.Constr *Awaiting Model Update*>,\n",
       " (2, 4): <gurobi.Constr *Awaiting Model Update*>,\n",
       " (2, 5): <gurobi.Constr *Awaiting Model Update*>,\n",
       " (3, 0): <gurobi.Constr *Awaiting Model Update*>,\n",
       " (3, 1): <gurobi.Constr *Awaiting Model Update*>,\n",
       " (3, 2): <gurobi.Constr *Awaiting Model Update*>,\n",
       " (3, 3): <gurobi.Constr *Awaiting Model Update*>,\n",
       " (3, 4): <gurobi.Constr *Awaiting Model Update*>,\n",
       " (3, 5): <gurobi.Constr *Awaiting Model Update*>,\n",
       " (4, 0): <gurobi.Constr *Awaiting Model Update*>,\n",
       " (4, 1): <gurobi.Constr *Awaiting Model Update*>,\n",
       " (4, 2): <gurobi.Constr *Awaiting Model Update*>,\n",
       " (4, 3): <gurobi.Constr *Awaiting Model Update*>,\n",
       " (4, 4): <gurobi.Constr *Awaiting Model Update*>,\n",
       " (4, 5): <gurobi.Constr *Awaiting Model Update*>,\n",
       " (5, 0): <gurobi.Constr *Awaiting Model Update*>,\n",
       " (5, 1): <gurobi.Constr *Awaiting Model Update*>,\n",
       " (5, 2): <gurobi.Constr *Awaiting Model Update*>,\n",
       " (5, 3): <gurobi.Constr *Awaiting Model Update*>,\n",
       " (5, 4): <gurobi.Constr *Awaiting Model Update*>,\n",
       " (5, 5): <gurobi.Constr *Awaiting Model Update*>,\n",
       " (6, 0): <gurobi.Constr *Awaiting Model Update*>,\n",
       " (6, 1): <gurobi.Constr *Awaiting Model Update*>,\n",
       " (6, 2): <gurobi.Constr *Awaiting Model Update*>,\n",
       " (6, 3): <gurobi.Constr *Awaiting Model Update*>,\n",
       " (6, 4): <gurobi.Constr *Awaiting Model Update*>,\n",
       " (6, 5): <gurobi.Constr *Awaiting Model Update*>}"
      ]
     },
     "execution_count": 7,
     "metadata": {},
     "output_type": "execute_result"
    }
   ],
   "source": [
    "#Each customer is served by one warehouse \n",
    "model.addConstrs( quicksum(x[i,j] for j in warehouses) == 1 for i in customers )\n",
    "\n",
    "#If a ware house is not open you cannot use the routes associated with it \n",
    "model.addConstrs( x[i,j] <= y[j] for i in customers for j in warehouses)"
   ]
  },
  {
   "cell_type": "markdown",
   "metadata": {},
   "source": [
    "### Make Objective"
   ]
  },
  {
   "cell_type": "code",
   "execution_count": 8,
   "metadata": {},
   "outputs": [],
   "source": [
    "transportation_cost = cost_per_milepallet * quicksum( x[i,j] * customer_demands[i] * distance[i][j] for i in customers for j in warehouses )\n",
    "cost_of_openWH  = quicksum(warehouse_fixed_costs[j] * y[j] for j in warehouses) \n",
    "\n",
    "total_cost = transportation_cost + cost_of_openWH\n",
    "\n",
    "model.setObjective(total_cost, GRB.MINIMIZE)"
   ]
  },
  {
   "cell_type": "markdown",
   "metadata": {},
   "source": [
    "### Printing Solutions "
   ]
  },
  {
   "cell_type": "code",
   "execution_count": 9,
   "metadata": {},
   "outputs": [
    {
     "name": "stdout",
     "output_type": "stream",
     "text": [
      "Optimize a model with 49 rows, 48 columns and 126 nonzeros\n",
      "Variable types: 0 continuous, 48 integer (48 binary)\n",
      "Coefficient statistics:\n",
      "  Matrix range     [1e+00, 1e+00]\n",
      "  Objective range  [2e+04, 4e+05]\n",
      "  Bounds range     [1e+00, 1e+00]\n",
      "  RHS range        [1e+00, 1e+00]\n",
      "Found heuristic solution: objective 1777468.8000\n",
      "Presolve time: 0.00s\n",
      "Presolved: 49 rows, 48 columns, 126 nonzeros\n",
      "Variable types: 0 continuous, 48 integer (48 binary)\n",
      "\n",
      "Root relaxation: objective 7.467180e+05, 43 iterations, 0.00 seconds\n",
      "\n",
      "    Nodes    |    Current Node    |     Objective Bounds      |     Work\n",
      " Expl Unexpl |  Obj  Depth IntInf | Incumbent    BestBd   Gap | It/Node Time\n",
      "\n",
      "*    0     0               0    746718.00000 746718.000  0.00%     -    0s\n",
      "\n",
      "Explored 0 nodes (43 simplex iterations) in 0.02 seconds\n",
      "Thread count was 4 (of 4 available processors)\n",
      "\n",
      "Solution count 2: 746718 1.77747e+06 \n",
      "\n",
      "Optimal solution found (tolerance 1.00e-04)\n",
      "Best objective 7.467180000000e+05, best bound 7.467180000000e+05, gap 0.0000%\n",
      "\n",
      "\n",
      "Optimal solution found in 0.03s\n",
      "\n",
      "The total cost is 746717.9999999999\n",
      "\n",
      "The optimal solution is:\n",
      "x[0,0] 1.0\n",
      "x[1,0] 1.0\n",
      "x[2,0] 1.0\n",
      "x[3,0] 1.0\n",
      "x[4,0] 1.0\n",
      "x[5,0] 1.0\n",
      "x[6,0] 1.0\n",
      "y[0] 1.0\n"
     ]
    }
   ],
   "source": [
    "#solve \n",
    "model.optimize()\n",
    "\n",
    "if model.status == GRB.Status.OPTIMAL:\n",
    "\tprint()\n",
    "\tprint('\\nOptimal solution found in {}s'.format(round(model.Runtime,2)))\n",
    "\tprint('\\nThe total cost is {}'.format(model.objVal))\n",
    "\tprint('\\nThe optimal solution is:')\n",
    "\tx_sol = model.getAttr('x', x) # get the optimal solution\n",
    "\t\n",
    "\tv = model.getVars()\n",
    "\t\n",
    "\tfor i in range(len(v)):\n",
    "\t\tif v[i].X != 0:\n",
    "\t\t\tprint(v[i].varName, v[i].X)\n"
   ]
  },
  {
   "cell_type": "markdown",
   "metadata": {},
   "source": [
    "### Calculate Total Miles"
   ]
  },
  {
   "cell_type": "code",
   "execution_count": 11,
   "metadata": {},
   "outputs": [
    {
     "name": "stdout",
     "output_type": "stream",
     "text": [
      "Total Miles is 131\n"
     ]
    }
   ],
   "source": [
    "total_miles = 0\n",
    "for i in range(7):\n",
    "\ttotal_miles = total_miles + distance[i][0]\n",
    "\n",
    "print(\"Total Miles is\" ,total_miles)"
   ]
  },
  {
   "cell_type": "markdown",
   "metadata": {},
   "source": [
    "    "
   ]
  },
  {
   "cell_type": "markdown",
   "metadata": {},
   "source": [
    "## (2) Two Warehouses Model "
   ]
  },
  {
   "cell_type": "markdown",
   "metadata": {},
   "source": [
    "### We will add a new constraint "
   ]
  },
  {
   "cell_type": "code",
   "execution_count": 12,
   "metadata": {},
   "outputs": [
    {
     "data": {
      "text/plain": [
       "<gurobi.Constr *Awaiting Model Update*>"
      ]
     },
     "execution_count": 12,
     "metadata": {},
     "output_type": "execute_result"
    }
   ],
   "source": [
    "#Open at least 2 WH \n",
    "model.addConstr ( quicksum( y[j] for j in warehouses) == 2 )"
   ]
  },
  {
   "cell_type": "markdown",
   "metadata": {},
   "source": [
    "### Solve "
   ]
  },
  {
   "cell_type": "code",
   "execution_count": 13,
   "metadata": {},
   "outputs": [
    {
     "name": "stdout",
     "output_type": "stream",
     "text": [
      "Optimize a model with 50 rows, 48 columns and 132 nonzeros\n",
      "Variable types: 0 continuous, 48 integer (48 binary)\n",
      "Coefficient statistics:\n",
      "  Matrix range     [1e+00, 1e+00]\n",
      "  Objective range  [2e+04, 4e+05]\n",
      "  Bounds range     [1e+00, 1e+00]\n",
      "  RHS range        [1e+00, 2e+00]\n",
      "\n",
      "MIP start did not produce a new incumbent solution\n",
      "MIP start violates constraint R49 by 1.000000000\n",
      "\n",
      "Found heuristic solution: objective 1188861.6000\n",
      "Presolve time: 0.00s\n",
      "Presolved: 50 rows, 48 columns, 132 nonzeros\n",
      "Variable types: 0 continuous, 48 integer (48 binary)\n",
      "\n",
      "Root relaxation: objective 1.041275e+06, 23 iterations, 0.00 seconds\n",
      "\n",
      "    Nodes    |    Current Node    |     Objective Bounds      |     Work\n",
      " Expl Unexpl |  Obj  Depth IntInf | Incumbent    BestBd   Gap | It/Node Time\n",
      "\n",
      "*    0     0               0    1041274.8000 1041274.80  0.00%     -    0s\n",
      "\n",
      "Explored 0 nodes (23 simplex iterations) in 0.03 seconds\n",
      "Thread count was 4 (of 4 available processors)\n",
      "\n",
      "Solution count 2: 1.04127e+06 1.18886e+06 \n",
      "\n",
      "Optimal solution found (tolerance 1.00e-04)\n",
      "Best objective 1.041274800000e+06, best bound 1.041274800000e+06, gap 0.0000%\n",
      "\n",
      "\n",
      "Optimal solution found in 0.03s\n",
      "\n",
      "The total cost is 1041274.8\n",
      "\n",
      "The optimal solution is:\n",
      "x[0,5] 1.0\n",
      "x[1,5] 1.0\n",
      "x[2,4] 1.0\n",
      "x[3,4] 1.0\n",
      "x[4,4] 1.0\n",
      "x[5,4] 1.0\n",
      "x[6,5] 1.0\n",
      "y[4] 1.0\n",
      "y[5] 1.0\n"
     ]
    }
   ],
   "source": [
    "#solve \n",
    "model.optimize()\n",
    "\n",
    "if model.status == GRB.Status.OPTIMAL:\n",
    "\tprint()\n",
    "\tprint('\\nOptimal solution found in {}s'.format(round(model.Runtime,2)))\n",
    "\tprint('\\nThe total cost is {}'.format(model.objVal))\n",
    "\tprint('\\nThe optimal solution is:')\n",
    "\tx_sol = model.getAttr('x', x) # get the optimal solution\n",
    "\t\n",
    "\tv = model.getVars()\n",
    "\t\n",
    "\tfor i in range(len(v)):\n",
    "\t\tif v[i].X != 0:\n",
    "\t\t\tprint(v[i].varName, v[i].X)\n",
    "\t#pprint(x_sol)\n",
    " \n",
    "    \n",
    "model.write('STORD.lp')"
   ]
  },
  {
   "cell_type": "markdown",
   "metadata": {},
   "source": [
    "### Calculate Total Miles "
   ]
  },
  {
   "cell_type": "code",
   "execution_count": 14,
   "metadata": {},
   "outputs": [
    {
     "name": "stdout",
     "output_type": "stream",
     "text": [
      "Total Miles is 107\n"
     ]
    }
   ],
   "source": [
    "total_miles = distance[0][5] + distance[1][5] + distance[2][4] + distance[3][4] + distance[4][4] + distance[5][4] + distance[6][5]\n",
    "print(\"Total Miles is\" ,total_miles)"
   ]
  },
  {
   "cell_type": "markdown",
   "metadata": {},
   "source": [
    "    "
   ]
  },
  {
   "cell_type": "markdown",
   "metadata": {},
   "source": [
    "## (3) Three Warehouses Model "
   ]
  },
  {
   "cell_type": "markdown",
   "metadata": {},
   "source": [
    "### Remove constraint from 2WH model and Add Constraints"
   ]
  },
  {
   "cell_type": "code",
   "execution_count": 19,
   "metadata": {},
   "outputs": [
    {
     "data": {
      "text/plain": [
       "<gurobi.Constr *Awaiting Model Update*>"
      ]
     },
     "execution_count": 19,
     "metadata": {},
     "output_type": "execute_result"
    }
   ],
   "source": [
    "model.remove(model.getConstrs())\n",
    "\n",
    "#Each customer is served by one warehouse \n",
    "model.addConstrs( quicksum(x[i,j] for j in warehouses) == 1 for i in customers )\n",
    "\n",
    "#If a ware house is not open you cannot use the routes associated with it \n",
    "model.addConstrs( x[i,j] <= y[j] for i in customers for j in warehouses)\n",
    "\n",
    "#Open at least 3 WH \n",
    "model.addConstr ( quicksum( y[j] for j in warehouses) == 3 )"
   ]
  },
  {
   "cell_type": "markdown",
   "metadata": {},
   "source": [
    "### Solve"
   ]
  },
  {
   "cell_type": "code",
   "execution_count": 20,
   "metadata": {},
   "outputs": [
    {
     "name": "stdout",
     "output_type": "stream",
     "text": [
      "Optimize a model with 50 rows, 48 columns and 132 nonzeros\n",
      "Variable types: 0 continuous, 48 integer (48 binary)\n",
      "Coefficient statistics:\n",
      "  Matrix range     [1e+00, 1e+00]\n",
      "  Objective range  [2e+04, 4e+05]\n",
      "  Bounds range     [1e+00, 1e+00]\n",
      "  RHS range        [1e+00, 3e+00]\n",
      "\n",
      "MIP start did not produce a new incumbent solution\n",
      "MIP start violates constraint R100 by 1.000000000\n",
      "\n",
      "Found heuristic solution: objective 1450207.2000\n",
      "Presolve time: 0.00s\n",
      "Presolved: 50 rows, 48 columns, 132 nonzeros\n",
      "Variable types: 0 continuous, 48 integer (48 binary)\n",
      "\n",
      "Root relaxation: objective 1.362695e+06, 14 iterations, 0.00 seconds\n",
      "\n",
      "    Nodes    |    Current Node    |     Objective Bounds      |     Work\n",
      " Expl Unexpl |  Obj  Depth IntInf | Incumbent    BestBd   Gap | It/Node Time\n",
      "\n",
      "*    0     0               0    1362694.8000 1362694.80  0.00%     -    0s\n",
      "\n",
      "Explored 0 nodes (14 simplex iterations) in 0.03 seconds\n",
      "Thread count was 4 (of 4 available processors)\n",
      "\n",
      "Solution count 2: 1.36269e+06 1.45021e+06 \n",
      "\n",
      "Optimal solution found (tolerance 1.00e-04)\n",
      "Best objective 1.362694800000e+06, best bound 1.362694800000e+06, gap 0.0000%\n",
      "\n",
      "\n",
      "Optimal solution found in 0.03s\n",
      "\n",
      "The total cost is 1362694.8\n",
      "\n",
      "The optimal solution is:\n",
      "x[0,0] 1.0\n",
      "x[1,5] 1.0\n",
      "x[2,4] 1.0\n",
      "x[3,4] 1.0\n",
      "x[4,4] 1.0\n",
      "x[5,0] 1.0\n",
      "x[6,5] 1.0\n",
      "y[0] 1.0\n",
      "y[4] 1.0\n",
      "y[5] 1.0\n"
     ]
    }
   ],
   "source": [
    "#solve \n",
    "model.optimize()\n",
    "\n",
    "if model.status == GRB.Status.OPTIMAL:\n",
    "\tprint()\n",
    "\tprint('\\nOptimal solution found in {}s'.format(round(model.Runtime,2)))\n",
    "\tprint('\\nThe total cost is {}'.format(model.objVal))\n",
    "\tprint('\\nThe optimal solution is:')\n",
    "\tx_sol = model.getAttr('x', x) # get the optimal solution\n",
    "\t\n",
    "\tv = model.getVars()\n",
    "\t\n",
    "\tfor i in range(len(v)):\n",
    "\t\tif v[i].X != 0:\n",
    "\t\t\tprint(v[i].varName, v[i].X)\n",
    "\t#pprint(x_sol)\n",
    " \n",
    "    \n",
    "model.write('STORD.lp')"
   ]
  },
  {
   "cell_type": "markdown",
   "metadata": {},
   "source": [
    "### Calculate Total Miles "
   ]
  },
  {
   "cell_type": "code",
   "execution_count": 22,
   "metadata": {},
   "outputs": [
    {
     "name": "stdout",
     "output_type": "stream",
     "text": [
      "Total Miles is 107\n"
     ]
    }
   ],
   "source": [
    "total_miles = 0\n",
    "total_miles = distance[0][0] + distance[1][5] + distance[2][4] + distance[3][4] + distance[4][4] + distance[5][0] + distance[6][5]\n",
    "print(\"Total Miles is\" ,total_miles)"
   ]
  },
  {
   "cell_type": "markdown",
   "metadata": {},
   "source": [
    "   "
   ]
  },
  {
   "cell_type": "markdown",
   "metadata": {},
   "source": [
    "## (4) Min-Distance Model "
   ]
  },
  {
   "cell_type": "markdown",
   "metadata": {},
   "source": [
    "### Remove constraint from 3WH model and Add Constraints"
   ]
  },
  {
   "cell_type": "code",
   "execution_count": 23,
   "metadata": {},
   "outputs": [
    {
     "data": {
      "text/plain": [
       "{0: <gurobi.Constr *Awaiting Model Update*>,\n",
       " 1: <gurobi.Constr *Awaiting Model Update*>,\n",
       " 2: <gurobi.Constr *Awaiting Model Update*>,\n",
       " 3: <gurobi.Constr *Awaiting Model Update*>,\n",
       " 4: <gurobi.Constr *Awaiting Model Update*>,\n",
       " 5: <gurobi.Constr *Awaiting Model Update*>,\n",
       " 6: <gurobi.Constr *Awaiting Model Update*>}"
      ]
     },
     "execution_count": 23,
     "metadata": {},
     "output_type": "execute_result"
    }
   ],
   "source": [
    "model.remove(model.getConstrs())\n",
    "\n",
    "#Each customer is served by one warehouse \n",
    "model.addConstrs( quicksum(x[i,j] for j in warehouses) == 1 for i in customers )"
   ]
  },
  {
   "cell_type": "markdown",
   "metadata": {},
   "source": [
    "### Make new Objective "
   ]
  },
  {
   "cell_type": "code",
   "execution_count": 24,
   "metadata": {},
   "outputs": [],
   "source": [
    "transportation_cost =  quicksum( x[i,j] * distance[i][j] for i in customers for j in warehouses )\n",
    "\n",
    "model.setObjective(transportation_cost, GRB.MINIMIZE)"
   ]
  },
  {
   "cell_type": "markdown",
   "metadata": {},
   "source": [
    "### Solve"
   ]
  },
  {
   "cell_type": "code",
   "execution_count": 26,
   "metadata": {
    "scrolled": true
   },
   "outputs": [
    {
     "name": "stdout",
     "output_type": "stream",
     "text": [
      "Optimize a model with 7 rows, 48 columns and 42 nonzeros\n",
      "Variable types: 0 continuous, 48 integer (48 binary)\n",
      "Coefficient statistics:\n",
      "  Matrix range     [1e+00, 1e+00]\n",
      "  Objective range  [8e+00, 3e+01]\n",
      "  Bounds range     [1e+00, 1e+00]\n",
      "  RHS range        [1e+00, 1e+00]\n",
      "\n",
      "Loaded MIP start with objective 1e+100\n",
      "\n",
      "Presolve removed 7 rows and 48 columns\n",
      "Presolve time: 0.00s\n",
      "Presolve: All rows and columns removed\n",
      "\n",
      "Explored 0 nodes (0 simplex iterations) in 0.01 seconds\n",
      "Thread count was 1 (of 4 available processors)\n",
      "\n",
      "Solution count 2: 88 107 \n",
      "\n",
      "Optimal solution found (tolerance 1.00e-04)\n",
      "Best objective 8.800000000000e+01, best bound 8.800000000000e+01, gap 0.0000%\n",
      "\n",
      "\n",
      "Optimal solution found in 0.02s\n",
      "\n",
      "The total mile is 88.0\n",
      "\n",
      "The optimal solution is:\n",
      "x[0,3] 1.0\n",
      "x[1,5] 1.0\n",
      "x[2,3] 1.0\n",
      "x[3,4] 1.0\n",
      "x[4,4] 1.0\n",
      "x[5,2] 1.0\n",
      "x[6,5] 1.0\n"
     ]
    }
   ],
   "source": [
    "#solve \n",
    "model.optimize()\n",
    "\n",
    "if model.status == GRB.Status.OPTIMAL:\n",
    "\tprint()\n",
    "\tprint('\\nOptimal solution found in {}s'.format(round(model.Runtime,2)))\n",
    "\tprint('\\nThe total mile is {}'.format(model.objVal))\n",
    "\tprint('\\nThe optimal solution is:')\n",
    "\tx_sol = model.getAttr('x', x) # get the optimal solution\n",
    "\t\n",
    "\tv = model.getVars()\n",
    "\t\n",
    "\tfor i in range(len(v)):\n",
    "\t\tif v[i].X != 0:\n",
    "\t\t\tprint(v[i].varName, v[i].X)\n",
    "\t#pprint(x_sol)\n",
    " \n",
    "    \n",
    "model.write('STORD.lp')"
   ]
  },
  {
   "cell_type": "markdown",
   "metadata": {},
   "source": [
    "### Find Total Cost"
   ]
  },
  {
   "cell_type": "code",
   "execution_count": 28,
   "metadata": {},
   "outputs": [
    {
     "name": "stdout",
     "output_type": "stream",
     "text": [
      "Transportation cost is 2019705.5999999999\n",
      "Warehousing fixed cost is 1468305\n",
      "Total Cost is 3488010.5999999996\n"
     ]
    }
   ],
   "source": [
    "total_miles = distance[0][3] + distance[1][5] + distance[2][3] + distance[3][4] + distance[4][4] + distance[5][2] + distance[6][5]\n",
    "total_demand = sum(customer_demands.values()) * 365 * 4 \n",
    "Trans_Cost = total_demand * total_miles * 0.06\n",
    "print(\"Transportation cost is\", Trans_Cost) \n",
    "\n",
    "WH_FC = warehouse_fixed_costs[2] + warehouse_fixed_costs[3] + warehouse_fixed_costs[4] + warehouse_fixed_costs[5]\n",
    "print(\"Warehousing fixed cost is\", WH_FC)\n",
    "\n",
    "Total_Cost = Trans_Cost + WH_FC\n",
    "print(\"Total Cost is\", Total_Cost) "
   ]
  },
  {
   "cell_type": "code",
   "execution_count": null,
   "metadata": {},
   "outputs": [],
   "source": []
  }
 ],
 "metadata": {
  "kernelspec": {
   "display_name": "Python 3",
   "language": "python",
   "name": "python3"
  },
  "language_info": {
   "codemirror_mode": {
    "name": "ipython",
    "version": 3
   },
   "file_extension": ".py",
   "mimetype": "text/x-python",
   "name": "python",
   "nbconvert_exporter": "python",
   "pygments_lexer": "ipython3",
   "version": "3.6.8"
  }
 },
 "nbformat": 4,
 "nbformat_minor": 2
}
